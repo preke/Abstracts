{
 "cells": [
  {
   "cell_type": "code",
   "execution_count": 1,
   "metadata": {},
   "outputs": [],
   "source": [
    "import pybtex\n",
    "import pandas as pd\n",
    "import json\n",
    "import traceback\n",
    "from pybtex.database.input import bibtex\n",
    "\n",
    "bib_path = 'anthology+abstracts.bib'\n",
    "#open a bibtex file\n",
    "parser = bibtex.Parser()\n",
    "bibdata = parser.parse_file(bib_path)"
   ]
  },
  {
   "cell_type": "code",
   "execution_count": 2,
   "metadata": {},
   "outputs": [],
   "source": [
    "import scispacy\n",
    "import spacy\n",
    "import en_core_web_sm\n",
    "nlp = en_core_web_sm.load()"
   ]
  },
  {
   "cell_type": "code",
   "execution_count": 3,
   "metadata": {},
   "outputs": [],
   "source": [
    "json_file = open('ann_abstract.jsonl', 'w')\n",
    "\n",
    "index = 0\n",
    "for bib_id in bibdata.entries:\n",
    "    tmp_dict = {}\n",
    "    b = bibdata.entries[bib_id].fields\n",
    "    try:\n",
    "        ab = b['abstract']\n",
    "        tmp_dict['abstract_id'] = index\n",
    "        tmp_dict['sentences'] = [str(i) for i in list(nlp(ab).sents)]\n",
    "        tmp_dict['labels'] = ['0']*len(tmp_dict['sentences'])\n",
    "        json_str = json.dumps(tmp_dict)\n",
    "        json_file.write(json_str)\n",
    "    except:\n",
    "        pass\n",
    "    index += 1\n",
    "json_file.close()"
   ]
  },
  {
   "cell_type": "code",
   "execution_count": 1,
   "metadata": {},
   "outputs": [
    {
     "data": {
      "text/html": [
       "<div>\n",
       "<style scoped>\n",
       "    .dataframe tbody tr th:only-of-type {\n",
       "        vertical-align: middle;\n",
       "    }\n",
       "\n",
       "    .dataframe tbody tr th {\n",
       "        vertical-align: top;\n",
       "    }\n",
       "\n",
       "    .dataframe thead th {\n",
       "        text-align: right;\n",
       "    }\n",
       "</style>\n",
       "<table border=\"1\" class=\"dataframe\">\n",
       "  <thead>\n",
       "    <tr style=\"text-align: right;\">\n",
       "      <th></th>\n",
       "      <th>title</th>\n",
       "      <th>year</th>\n",
       "      <th>booktitle/journal</th>\n",
       "      <th>abstract</th>\n",
       "    </tr>\n",
       "  </thead>\n",
       "  <tbody>\n",
       "    <tr>\n",
       "      <th>0</th>\n",
       "      <td>Proceedings of the The Fourth Widening Natural...</td>\n",
       "      <td>2020</td>\n",
       "      <td>NaN</td>\n",
       "      <td>NaN</td>\n",
       "    </tr>\n",
       "    <tr>\n",
       "      <th>1</th>\n",
       "      <td>Corpus based {A}mharic sentiment lexicon gener...</td>\n",
       "      <td>2020</td>\n",
       "      <td>Proceedings of the The Fourth Widening Natural...</td>\n",
       "      <td>Sentiment classification is an active research...</td>\n",
       "    </tr>\n",
       "    <tr>\n",
       "      <th>2</th>\n",
       "      <td>Negation handling for {A}mharic sentiment clas...</td>\n",
       "      <td>2020</td>\n",
       "      <td>Proceedings of the The Fourth Widening Natural...</td>\n",
       "      <td>User generated content is bringing new aspects...</td>\n",
       "    </tr>\n",
       "    <tr>\n",
       "      <th>3</th>\n",
       "      <td>Embedding Oriented Adaptable Semantic Annotati...</td>\n",
       "      <td>2020</td>\n",
       "      <td>Proceedings of the The Fourth Widening Natural...</td>\n",
       "      <td>The Web has become a source of information, wh...</td>\n",
       "    </tr>\n",
       "    <tr>\n",
       "      <th>4</th>\n",
       "      <td>Similarity and Farness Based Bidirectional Neu...</td>\n",
       "      <td>2020</td>\n",
       "      <td>Proceedings of the The Fourth Widening Natural...</td>\n",
       "      <td>In natural language one idea can be conveyed u...</td>\n",
       "    </tr>\n",
       "  </tbody>\n",
       "</table>\n",
       "</div>"
      ],
      "text/plain": [
       "                                               title  year  \\\n",
       "0  Proceedings of the The Fourth Widening Natural...  2020   \n",
       "1  Corpus based {A}mharic sentiment lexicon gener...  2020   \n",
       "2  Negation handling for {A}mharic sentiment clas...  2020   \n",
       "3  Embedding Oriented Adaptable Semantic Annotati...  2020   \n",
       "4  Similarity and Farness Based Bidirectional Neu...  2020   \n",
       "\n",
       "                                   booktitle/journal  \\\n",
       "0                                                NaN   \n",
       "1  Proceedings of the The Fourth Widening Natural...   \n",
       "2  Proceedings of the The Fourth Widening Natural...   \n",
       "3  Proceedings of the The Fourth Widening Natural...   \n",
       "4  Proceedings of the The Fourth Widening Natural...   \n",
       "\n",
       "                                            abstract  \n",
       "0                                                NaN  \n",
       "1  Sentiment classification is an active research...  \n",
       "2  User generated content is bringing new aspects...  \n",
       "3  The Web has become a source of information, wh...  \n",
       "4  In natural language one idea can be conveyed u...  "
      ]
     },
     "execution_count": 1,
     "metadata": {},
     "output_type": "execute_result"
    }
   ],
   "source": [
    "import pandas as pd\n",
    "df = pd.read_csv('ann.tsv', sep='\\t')\n",
    "df.head()"
   ]
  },
  {
   "cell_type": "code",
   "execution_count": 8,
   "metadata": {},
   "outputs": [
    {
     "data": {
      "text/plain": [
       "1685"
      ]
     },
     "execution_count": 8,
     "metadata": {},
     "output_type": "execute_result"
    }
   ],
   "source": [
    "df['booktitle/journal'].nunique()"
   ]
  },
  {
   "cell_type": "code",
   "execution_count": 9,
   "metadata": {},
   "outputs": [
    {
     "data": {
      "text/plain": [
       "count    58004.000000\n",
       "mean      2009.612768\n",
       "std          9.609690\n",
       "min       1965.000000\n",
       "25%       2005.000000\n",
       "50%       2012.000000\n",
       "75%       2017.000000\n",
       "max       2021.000000\n",
       "Name: year, dtype: float64"
      ]
     },
     "execution_count": 9,
     "metadata": {},
     "output_type": "execute_result"
    }
   ],
   "source": [
    "df['year'].describe()"
   ]
  }
 ],
 "metadata": {
  "kernelspec": {
   "display_name": "Python 3",
   "language": "python",
   "name": "python3"
  },
  "language_info": {
   "codemirror_mode": {
    "name": "ipython",
    "version": 3
   },
   "file_extension": ".py",
   "mimetype": "text/x-python",
   "name": "python",
   "nbconvert_exporter": "python",
   "pygments_lexer": "ipython3",
   "version": "3.7.4"
  }
 },
 "nbformat": 4,
 "nbformat_minor": 4
}
